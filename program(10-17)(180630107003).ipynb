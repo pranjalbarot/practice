{
 "cells": [
  {
   "cell_type": "code",
   "execution_count": 4,
   "metadata": {},
   "outputs": [
    {
     "name": "stdout",
     "output_type": "stream",
     "text": [
      "program to check if anumber is positive,nagative or zero\n",
      "enter number:-3\n",
      "number is nagative\n",
      "pranjal barot \n",
      " 180630107003\n"
     ]
    }
   ],
   "source": [
    "print(\"program to check if anumber is positive,nagative or zero\")\n",
    "num=float(input(\"enter number:\"))\n",
    "if num>0:\n",
    "    print(\"number is positive\")\n",
    "elif num==0:\n",
    "    print(\"number is zero\")\n",
    "else:\n",
    "    print(\"number is nagative\")\n",
    "print(\"pranjal barot \\n 180630107003\")"
   ]
  },
  {
   "cell_type": "code",
   "execution_count": 8,
   "metadata": {},
   "outputs": [
    {
     "name": "stdout",
     "output_type": "stream",
     "text": [
      "program to check if a number is even or odd\n",
      "enter number:4\n",
      "4 is even\n",
      "pranjal barot\n",
      "180630107003\n"
     ]
    }
   ],
   "source": [
    "print(\"program to check if a number is even or odd\")\n",
    "num=int(input(\"enter number:\"))\n",
    "if num%2==0:\n",
    "    print(\"{0} is even\".format(num))\n",
    "else:\n",
    "    print(\"{0} is odd\".format(num))\n",
    "print(\"pranjal barot\\n180630107003\")"
   ]
  },
  {
   "cell_type": "code",
   "execution_count": 14,
   "metadata": {},
   "outputs": [
    {
     "name": "stdout",
     "output_type": "stream",
     "text": [
      "python program to find largest among three numbers\n",
      "enter num1 :7\n",
      "enter num2 :3\n",
      "enter num3 :6\n",
      "7 is large\n",
      "pranjal barot\n",
      "180630107003\n"
     ]
    }
   ],
   "source": [
    "print(\"python program to find largest among three numbers\")\n",
    "num1=int(input(\"enter num1 :\"))\n",
    "num2=int(input(\"enter num2 :\"))\n",
    "num3=int(input(\"enter num3 :\"))\n",
    "if num1>=num2 and num1>=num3:\n",
    "    print(\"{0} is large\".format(num1))\n",
    "elif num2>=num1 and num2>=num3:\n",
    "    print(\"{0} is large\".format(num2))\n",
    "else:\n",
    "    print(\"{0} is large\".format(num3))\n",
    "print(\"pranjal barot\\n180630107003\")"
   ]
  },
  {
   "cell_type": "code",
   "execution_count": 18,
   "metadata": {},
   "outputs": [
    {
     "name": "stdout",
     "output_type": "stream",
     "text": [
      "program to check leap year\n",
      "enter year :2001\n",
      "2001 is not leap year\n",
      "pranjal barot\n",
      "180630107003\n"
     ]
    }
   ],
   "source": [
    "print(\"program to check leap year\")\n",
    "year=int(input(\"enter year :\"))\n",
    "if year%4==0:\n",
    "    if year%100==0:\n",
    "        if year%400==0:\n",
    "            print(\"{0} is leap year\".format(year))\n",
    "        else:\n",
    "            print(\"{0} is not leap year\".format(year))\n",
    "    else:\n",
    "        print(\"{0} is leap year\".format(year))\n",
    "else:\n",
    "    print(\"{0} is not leap year\".format(year))\n",
    "print(\"pranjal barot\\n180630107003\")"
   ]
  },
  {
   "cell_type": "code",
   "execution_count": 21,
   "metadata": {},
   "outputs": [
    {
     "name": "stdout",
     "output_type": "stream",
     "text": [
      "program to check prime number\n",
      "300 is not a prime number\n",
      "pranjal barot\n",
      "180630107003\n"
     ]
    }
   ],
   "source": [
    "print(\"program to check prime number\")\n",
    "num=300\n",
    "if num>1:\n",
    "    for i in range (2,num):\n",
    "        if num%i==0:\n",
    "            print(\"{0} is not a prime number\".format(num))\n",
    "            break\n",
    "else:\n",
    "    print(num,\" is prime number\")\n",
    "print(\"pranjal barot\\n180630107003\")"
   ]
  },
  {
   "cell_type": "code",
   "execution_count": 25,
   "metadata": {},
   "outputs": [
    {
     "name": "stdout",
     "output_type": "stream",
     "text": [
      "program to print all prime numbers into intervals\n",
      "prime number between  500  and  600  are :\n",
      "503\n",
      "509\n",
      "521\n",
      "523\n",
      "541\n",
      "547\n",
      "557\n",
      "563\n",
      "569\n",
      "571\n",
      "577\n",
      "587\n",
      "593\n",
      "599\n",
      "pranjal barot\n",
      "180630107003\n"
     ]
    }
   ],
   "source": [
    "print(\"program to print all prime numbers into intervals\")\n",
    "lower=500\n",
    "upper=600\n",
    "print(\"prime number between \",lower,\" and \",upper,\" are :\")\n",
    "for num in range(lower,upper+1):\n",
    "    if num>1:\n",
    "        for i in range(2,num):\n",
    "            if num%i==0:\n",
    "                break\n",
    "        else:\n",
    "            print(num)\n",
    "print(\"pranjal barot\\n180630107003\")"
   ]
  },
  {
   "cell_type": "code",
   "execution_count": 27,
   "metadata": {},
   "outputs": [
    {
     "name": "stdout",
     "output_type": "stream",
     "text": [
      "program to find factorial of a number\n",
      "enter number :3\n",
      "factorial of  3  is  6\n",
      "pranjal barot\n",
      "180630107003\n"
     ]
    }
   ],
   "source": [
    "print(\"program to find factorial of a number\")\n",
    "factorial=1\n",
    "num=int(input(\"enter number :\"))\n",
    "if num<0:\n",
    "    print(\"factorail of the {0} does not exist\".format(num))\n",
    "elif num==1:\n",
    "        print(\"factorial of {0} is 1\".format(num))\n",
    "else:\n",
    "    for i in range(2,num+1):\n",
    "        factorial=factorial*i\n",
    "    print(\"factorial of \",num,\" is \",factorial)\n",
    "    print(\"pranjal barot\\n180630107003\")\n",
    "        "
   ]
  },
  {
   "cell_type": "code",
   "execution_count": 7,
   "metadata": {},
   "outputs": [
    {
     "name": "stdout",
     "output_type": "stream",
     "text": [
      "python program to display multiplication table\n",
      "enter number :4\n",
      "multiplication table of  4  is given below.\n",
      "4 * 1  =  4\n",
      "4 * 2  =  8\n",
      "4 * 3  =  12\n",
      "4 * 4  =  16\n",
      "4 * 5  =  20\n",
      "4 * 6  =  24\n",
      "4 * 7  =  28\n",
      "4 * 8  =  32\n",
      "4 * 9  =  36\n",
      "4 * 10  =  40\n",
      "barot pranjal\n",
      "180630107003\n"
     ]
    }
   ],
   "source": [
    "print(\"python program to display multiplication table\")\n",
    "num=int(input(\"enter number :\"))\n",
    "print(\"multiplication table of \",num,\" is given below.\")\n",
    "for i in range(1,11):\n",
    "    print(num,'*', i, \" = \",num*i)\n",
    "print(\"barot pranjal\\n180630107003\")"
   ]
  },
  {
   "cell_type": "code",
   "execution_count": null,
   "metadata": {},
   "outputs": [],
   "source": []
  }
 ],
 "metadata": {
  "kernelspec": {
   "display_name": "Python 3",
   "language": "python",
   "name": "python3"
  },
  "language_info": {
   "codemirror_mode": {
    "name": "ipython",
    "version": 3
   },
   "file_extension": ".py",
   "mimetype": "text/x-python",
   "name": "python",
   "nbconvert_exporter": "python",
   "pygments_lexer": "ipython3",
   "version": "3.7.6"
  }
 },
 "nbformat": 4,
 "nbformat_minor": 4
}
