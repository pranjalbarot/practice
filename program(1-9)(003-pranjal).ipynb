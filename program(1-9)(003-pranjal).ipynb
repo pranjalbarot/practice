{
 "cells": [
  {
   "cell_type": "code",
   "execution_count": 2,
   "metadata": {},
   "outputs": [
    {
     "name": "stdout",
     "output_type": "stream",
     "text": [
      "hello,world !!\n",
      " hello!! pranjal barot \n",
      " 180630107003\n"
     ]
    }
   ],
   "source": [
    "print(\"hello,world !!\")\n",
    "print(\" hello!! pranjal barot \\n 180630107003\")"
   ]
  },
  {
   "cell_type": "code",
   "execution_count": 4,
   "metadata": {},
   "outputs": [
    {
     "name": "stdout",
     "output_type": "stream",
     "text": [
      "addition of two number\n",
      "sum of 2 and 4 is 6\n",
      "pranjal barot \n",
      " 180630107003\n"
     ]
    }
   ],
   "source": [
    "print(\"addition of two number\")\n",
    "a=2\n",
    "b=4\n",
    "sum=a+b\n",
    "print(\"sum of {0} and {1} is {2}\".format(a,b,sum))\n",
    "print(\"pranjal barot \\n 180630107003\")"
   ]
  },
  {
   "cell_type": "code",
   "execution_count": 5,
   "metadata": {},
   "outputs": [
    {
     "name": "stdout",
     "output_type": "stream",
     "text": [
      "square root program\n",
      "square root of 16 is 4.0\n",
      "pranjal barot \n",
      " 180630107003\n"
     ]
    }
   ],
   "source": [
    "print(\"square root program\")\n",
    "num=16\n",
    "sqrt=num**0.5\n",
    "print(\"square root of {0} is {1}\".format(num,sqrt))\n",
    "print(\"pranjal barot \\n 180630107003\")"
   ]
  },
  {
   "cell_type": "code",
   "execution_count": 3,
   "metadata": {},
   "outputs": [
    {
     "name": "stdout",
     "output_type": "stream",
     "text": [
      "to calculate area of triangle\n",
      "area of triangle which havine edge 5,6,3 is 7.483314773547883\n",
      "\n",
      " enrollment no:-180630107003 \n",
      " name:pranjal barot\n"
     ]
    }
   ],
   "source": [
    "print(\"to calculate area of triangle\")\n",
    "a=5\n",
    "b=6\n",
    "c=3\n",
    "s=(a+b+c)/2\n",
    "area=(s*(s-a)*(s-b)*(s-c))**0.5\n",
    "print(\"area of triangle which havine edge {0},{1},{2} is {3}\".format(a,b,c,area))\n",
    "print(\"\\n enrollment no:-180630107003 \\n name:pranjal barot\")"
   ]
  },
  {
   "cell_type": "code",
   "execution_count": 7,
   "metadata": {},
   "outputs": [
    {
     "name": "stdout",
     "output_type": "stream",
     "text": [
      "program to solve quadratic equation\n",
      "the two solution of the quadratic equation is (-5.5+0j) and (-4.5+0j)\n"
     ]
    }
   ],
   "source": [
    "print(\"program to solve quadratic equation\")\n",
    "import cmath\n",
    "a=1\n",
    "b=5\n",
    "c=6\n",
    "d=((b**2)-(4*a*c))\n",
    "sol1=(-b-cmath.sqrt(d)/2*a)\n",
    "sol2=(-b+cmath.sqrt(d)/2*a)\n",
    "print(\"the two solution of the quadratic equation is {0} and {1}\".format(sol1,sol2))"
   ]
  },
  {
   "cell_type": "code",
   "execution_count": 9,
   "metadata": {},
   "outputs": [
    {
     "name": "stdout",
     "output_type": "stream",
     "text": [
      "swap two variable\n",
      "value before swapping 5 and 10\n",
      "value after swaping 10 and 5\n",
      "my name is:pranjal \n",
      " 180630107003 \n",
      " from 5CE1\n"
     ]
    }
   ],
   "source": [
    "print(\"swap two variable\")\n",
    "x=5\n",
    "y=10\n",
    "print(\"value before swapping {0} and {1}\".format(x,y))\n",
    "temp=x\n",
    "x=y\n",
    "y=temp\n",
    "print(\"value after swaping {0} and {1}\".format(x,y))\n",
    "print(\"my name is:pranjal \\n 180630107003 \\n from 5CE1\")"
   ]
  },
  {
   "cell_type": "code",
   "execution_count": 10,
   "metadata": {},
   "outputs": [
    {
     "name": "stdout",
     "output_type": "stream",
     "text": [
      "program to generate random number\n",
      "3\n",
      "pranjal barot \n",
      " 180630107003\n"
     ]
    }
   ],
   "source": [
    "print(\"program to generate random number\")\n",
    "import random\n",
    "print(random.randint(0,5))\n",
    "print(\"pranjal barot \\n 180630107003\")"
   ]
  },
  {
   "cell_type": "code",
   "execution_count": 11,
   "metadata": {},
   "outputs": [
    {
     "name": "stdout",
     "output_type": "stream",
     "text": [
      "program to convert kilometer in miles\n",
      "enter value in kilometer10\n",
      "10.0km is equal to 6.21371miles\n",
      "pranjal barot \n",
      " 180630107003\n"
     ]
    }
   ],
   "source": [
    "print(\"program to convert kilometer in miles\")\n",
    "kilometer=float(input(\"enter value in kilometer\"))\n",
    "conversionfactor=0.621371\n",
    "miles=kilometer*conversionfactor\n",
    "print(\"{0}km is equal to {1}miles\".format(kilometer,miles))\n",
    "print(\"pranjal barot \\n 180630107003\")"
   ]
  },
  {
   "cell_type": "code",
   "execution_count": 21,
   "metadata": {},
   "outputs": [
    {
     "name": "stdout",
     "output_type": "stream",
     "text": [
      "program to convert celsius in fahrenheit\n",
      "37.5 degree celsius is equal to 99.5 fahrenheit\n",
      "name:pranjal barot \n",
      " en no:180630107003\n"
     ]
    }
   ],
   "source": [
    "print(\"program to convert celsius in fahrenheit\")\n",
    "celsius=37.5\n",
    "fahrenheit=(celsius*1.8)+32\n",
    "print(\"{0} degree celsius is equal to {1} fahrenheit\".format(celsius,fahrenheit))\n",
    "print(\"name:pranjal barot \\n en no:180630107003\")"
   ]
  },
  {
   "cell_type": "code",
   "execution_count": null,
   "metadata": {},
   "outputs": [],
   "source": []
  }
 ],
 "metadata": {
  "kernelspec": {
   "display_name": "Python 3",
   "language": "python",
   "name": "python3"
  },
  "language_info": {
   "codemirror_mode": {
    "name": "ipython",
    "version": 3
   },
   "file_extension": ".py",
   "mimetype": "text/x-python",
   "name": "python",
   "nbconvert_exporter": "python",
   "pygments_lexer": "ipython3",
   "version": "3.7.6"
  }
 },
 "nbformat": 4,
 "nbformat_minor": 4
}
